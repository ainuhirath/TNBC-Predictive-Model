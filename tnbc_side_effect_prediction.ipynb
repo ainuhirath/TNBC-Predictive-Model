{
 "cells": [
  {
   "cell_type": "code",
   "execution_count": 4,
   "id": "eae7ad72-7f56-4e4d-b86f-c802cc344598",
   "metadata": {},
   "outputs": [],
   "source": [
    "#Setup \n",
    "\n",
    "import pandas as pd\n",
    "import numpy as np\n",
    "from sklearn.datasets import make_classification\n",
    "from sklearn.model_selection import train_test_split\n",
    "from sklearn.preprocessing import StandardScaler, OneHotEncoder\n",
    "from sklearn.compose import ColumnTransformer\n",
    "from sklearn.pipeline import Pipeline\n",
    "from sklearn.impute import SimpleImputer\n",
    "from sklearn.linear_model import LogisticRegression\n",
    "from sklearn.ensemble import RandomForestClassifier\n",
    "from sklearn.metrics import accuracy_score, precision_score, recall_score, f1_score, roc_auc_score\n",
    "\n"
   ]
  },
  {
   "cell_type": "code",
   "execution_count": 6,
   "id": "d7dc3778-de59-4acd-bfcc-f42a42da82b3",
   "metadata": {},
   "outputs": [],
   "source": [
    "# 1. Simulate patient data\n",
    "X, y = make_classification(n_samples=1000, n_features=10, n_informative=6, n_redundant=2,\n",
    "                           n_classes=2, weights=[0.6, 0.4], flip_y=0.03, class_sep=1.2, random_state=42)\n",
    "\n",
    "feature_names = [\n",
    "    \"age\", \"tumor_size\", \"lymph_nodes\", \"comorbidities\", \"genetic_risk\",\n",
    "    \"prior_treatments\", \"treatment_type\", \"white_blood_cell\", \"platelet_count\", \"liver_function\"\n",
    "]\n",
    "df = pd.DataFrame(X, columns=feature_names)\n",
    "df['side_effect_severity'] = y\n",
    "\n",
    "# Add realistic values\n",
    "df['treatment_type'] = np.random.choice(['chemo_A', 'chemo_B', 'radiation'], size=len(df))\n",
    "df['liver_function'] = np.round(np.clip(df['liver_function'], 0, 5))\n",
    "df['age'] = np.round(np.clip(df['age'] * 15 + 50, 20, 90))\n",
    "df['tumor_size'] = np.round(np.clip(df['tumor_size'] * 20 + 30, 5, 120))\n",
    "df['white_blood_cell'] = np.round(np.clip(df['white_blood_cell'] * 2 + 6, 3, 15), 1)\n",
    "df['platelet_count'] = np.round(np.clip(df['platelet_count'] * 50 + 250, 100, 600), 0)\n",
    "df['treatment_type'] = df['treatment_type'].astype('category')\n"
   ]
  },
  {
   "cell_type": "code",
   "execution_count": 8,
   "id": "423e4105-8ad8-4417-a83b-a3828b89f26e",
   "metadata": {},
   "outputs": [],
   "source": [
    "# 2. Preprocess the data\n",
    "X = df.drop(columns=\"side_effect_severity\")\n",
    "y = df[\"side_effect_severity\"]\n",
    "\n",
    "numeric_features = X.select_dtypes(include=[\"float64\", \"int64\"]).columns.tolist()\n",
    "categorical_features = X.select_dtypes(include=[\"category\", \"object\"]).columns.tolist()\n",
    "\n",
    "numeric_transformer = Pipeline(steps=[\n",
    "    (\"imputer\", SimpleImputer(strategy=\"mean\")),\n",
    "    (\"scaler\", StandardScaler())\n",
    "])\n",
    "categorical_transformer = Pipeline(steps=[\n",
    "    (\"imputer\", SimpleImputer(strategy=\"most_frequent\")),\n",
    "    (\"onehot\", OneHotEncoder(handle_unknown=\"ignore\"))\n",
    "])\n",
    "preprocessor = ColumnTransformer(transformers=[\n",
    "    (\"num\", numeric_transformer, numeric_features),\n",
    "    (\"cat\", categorical_transformer, categorical_features)\n",
    "])\n",
    "\n",
    "X_processed = preprocessor.fit_transform(X)\n",
    "X_train, X_test, y_train, y_test = train_test_split(X_processed, y, test_size=0.2, random_state=42)\n"
   ]
  },
  {
   "cell_type": "code",
   "execution_count": 12,
   "id": "5d182be8-d467-48f6-bca4-18d4bd170e80",
   "metadata": {},
   "outputs": [
    {
     "name": "stdout",
     "output_type": "stream",
     "text": [
      "\\nModel Comparison Results:\\n\n",
      "              Model  Accuracy  Precision   Recall  F1 Score  ROC-AUC\n",
      "      Random Forest     0.935   0.923077 0.911392  0.917197 0.977142\n",
      "Logistic Regression     0.850   0.781609 0.860759  0.819277 0.918402\n"
     ]
    }
   ],
   "source": [
    "# 3. Train and evaluate models\n",
    "models = {\n",
    "    \"Logistic Regression\": LogisticRegression(max_iter=1000, random_state=42),\n",
    "    \"Random Forest\": RandomForestClassifier(n_estimators=100, random_state=42)\n",
    "}\n",
    "\n",
    "results = []\n",
    "\n",
    "for name, model in models.items():\n",
    "    model.fit(X_train, y_train)\n",
    "    y_pred = model.predict(X_test)\n",
    "    y_proba = model.predict_proba(X_test)[:, 1]\n",
    "    \n",
    "    results.append({\n",
    "        \"Model\": name,\n",
    "        \"Accuracy\": accuracy_score(y_test, y_pred),\n",
    "        \"Precision\": precision_score(y_test, y_pred),\n",
    "        \"Recall\": recall_score(y_test, y_pred),\n",
    "        \"F1 Score\": f1_score(y_test, y_pred),\n",
    "        \"ROC-AUC\": roc_auc_score(y_test, y_proba)\n",
    "    })\n",
    "\n",
    "results_df = pd.DataFrame(results).sort_values(by=\"ROC-AUC\", ascending=False)\n",
    "print(\"\\\\nModel Comparison Results:\\\\n\")\n",
    "print(results_df.to_string(index=False))\n",
    "\n"
   ]
  },
  {
   "cell_type": "code",
   "execution_count": null,
   "id": "42a6fd41-2e94-4ad2-b1c7-b81c866e63ca",
   "metadata": {},
   "outputs": [],
   "source": []
  }
 ],
 "metadata": {
  "kernelspec": {
   "display_name": "Python [conda env:base] *",
   "language": "python",
   "name": "conda-base-py"
  },
  "language_info": {
   "codemirror_mode": {
    "name": "ipython",
    "version": 3
   },
   "file_extension": ".py",
   "mimetype": "text/x-python",
   "name": "python",
   "nbconvert_exporter": "python",
   "pygments_lexer": "ipython3",
   "version": "3.11.7"
  }
 },
 "nbformat": 4,
 "nbformat_minor": 5
}
